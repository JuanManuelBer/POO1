{
  "nbformat": 4,
  "nbformat_minor": 0,
  "metadata": {
    "colab": {
      "provenance": []
    },
    "kernelspec": {
      "name": "python3",
      "display_name": "Python 3"
    },
    "language_info": {
      "name": "python"
    }
  },
  "cells": [
    {
      "cell_type": "code",
      "execution_count": null,
      "metadata": {
        "colab": {
          "base_uri": "https://localhost:8080/"
        },
        "id": "UQqM6RB25LPL",
        "outputId": "18c21a17-7b28-4db3-a3f4-44e04870897c"
      },
      "outputs": [
        {
          "output_type": "stream",
          "name": "stdout",
          "text": [
            "Hola Mundo!\n"
          ]
        }
      ],
      "source": [
        "#1. Imprime \"Hola Mundo!\"\n",
        "print(\"Hola Mundo!\")"
      ]
    },
    {
      "cell_type": "code",
      "source": [
        "#2. Declara una variable llamada nombre e imprime su valor\n",
        "nombre = \"Juan\"\n",
        "print(nombre)"
      ],
      "metadata": {
        "colab": {
          "base_uri": "https://localhost:8080/"
        },
        "id": "H_rSdpZX5iNk",
        "outputId": "adf147f4-4d36-492a-b080-7e33eea52170"
      },
      "execution_count": null,
      "outputs": [
        {
          "output_type": "stream",
          "name": "stdout",
          "text": [
            "Juan\n"
          ]
        }
      ]
    },
    {
      "cell_type": "code",
      "source": [
        "#3. Pide al usuario que ingrese un numero e imprime su doble\n",
        "num = float(input(\"Ingrese un numero: \"))\n",
        "print (\"El doble es: \", num*2)"
      ],
      "metadata": {
        "colab": {
          "base_uri": "https://localhost:8080/"
        },
        "id": "c3v7gvp05s5c",
        "outputId": "3d851751-4d66-4c41-8c52-97d8c03533a1"
      },
      "execution_count": null,
      "outputs": [
        {
          "output_type": "stream",
          "name": "stdout",
          "text": [
            "Ingrese un numero: 2\n",
            "El doble es:  4.0\n"
          ]
        }
      ]
    },
    {
      "cell_type": "code",
      "source": [
        "#4. Escribe un programa que sume dos numeros ingresados por el usuario\n",
        "num1 = float(input(\"Ingrese un numero: \"))\n",
        "num2 = float(input(\"Ingrese otro numero: \"))\n",
        "print(\"La suma de los numeros es: \", num1 + num2)"
      ],
      "metadata": {
        "colab": {
          "base_uri": "https://localhost:8080/"
        },
        "id": "bI-tSV0E6Jja",
        "outputId": "37ceebf2-2783-499a-923a-abd42bc2656d"
      },
      "execution_count": null,
      "outputs": [
        {
          "output_type": "stream",
          "name": "stdout",
          "text": [
            "Ingrese un numero: 5\n",
            "Ingrese otro numero: 5\n",
            "La suma de los numeros es:  10.0\n"
          ]
        }
      ]
    },
    {
      "cell_type": "code",
      "source": [
        "#5. Crea una lista de cinco numeros y muestra el primer y ultimo elemento\n",
        "lista = [1,2,3,4,5]\n",
        "print(\"El primer numero es: \", lista[0])\n",
        "print(\"El ultimo numero es: \", lista[4])\n"
      ],
      "metadata": {
        "colab": {
          "base_uri": "https://localhost:8080/"
        },
        "id": "o0-36Ixw7l0y",
        "outputId": "ee1d4f9b-c510-4a3b-bde0-77a0a78493d7"
      },
      "execution_count": null,
      "outputs": [
        {
          "output_type": "stream",
          "name": "stdout",
          "text": [
            "El primer numero es:  1\n",
            "El ultimo numero es:  5\n"
          ]
        }
      ]
    },
    {
      "cell_type": "code",
      "source": [
        "#7. Escribe un bucle que imprima los numeros del 1 al 10\n",
        "for i in range(1,11):\n",
        "  print (i)"
      ],
      "metadata": {
        "colab": {
          "base_uri": "https://localhost:8080/"
        },
        "id": "P6Q1jf938xo5",
        "outputId": "4c374c8d-a2c9-4164-ee31-cd40feac0b93"
      },
      "execution_count": null,
      "outputs": [
        {
          "output_type": "stream",
          "name": "stdout",
          "text": [
            "1\n",
            "2\n",
            "3\n",
            "4\n",
            "5\n",
            "6\n",
            "7\n",
            "8\n",
            "9\n",
            "10\n"
          ]
        }
      ]
    },
    {
      "cell_type": "code",
      "source": [
        "#6. Escribe un programa que verifique si un numero es par o impar\n",
        "numero= int(input(\"Ingrese un numero: \"))\n",
        "if numero % 2 == 0:\n",
        "  print(\"El numero es par\")\n",
        "else:\n",
        "    print(\"El numero es impar\")"
      ],
      "metadata": {
        "colab": {
          "base_uri": "https://localhost:8080/"
        },
        "id": "JFiLrpMe9WXF",
        "outputId": "dcc40d2f-ad5a-47d3-8857-abe49e749562"
      },
      "execution_count": null,
      "outputs": [
        {
          "output_type": "stream",
          "name": "stdout",
          "text": [
            "Ingrese un numero: 6\n",
            "El numero es par\n"
          ]
        }
      ]
    },
    {
      "cell_type": "code",
      "source": [
        "#8 Calcula la suma de los primeros 100 numeros naturales\n",
        "suma = sum(range(1,101))\n",
        "print(\"La suma de los primeros 100 numeros naturales es: \", suma )"
      ],
      "metadata": {
        "colab": {
          "base_uri": "https://localhost:8080/"
        },
        "id": "QJAI93IG-L96",
        "outputId": "a90ec26c-9116-4097-f18d-7d71ce7e1e06"
      },
      "execution_count": null,
      "outputs": [
        {
          "output_type": "stream",
          "name": "stdout",
          "text": [
            "La suma de los primeros 100 numeros naturales es:  5050\n"
          ]
        }
      ]
    },
    {
      "cell_type": "code",
      "source": [
        "#9. Crea una funcion que reciba un numero y devuelva su cuadrado\n",
        "def cuadrado(num):\n",
        "  return num**2\n",
        "print(\"El cuadrado de 5 es: \", cuadrado(5))"
      ],
      "metadata": {
        "colab": {
          "base_uri": "https://localhost:8080/"
        },
        "id": "rEjFEJAC-vGh",
        "outputId": "e6805e72-54df-4bcc-83ca-4e9f8a7f8f73"
      },
      "execution_count": null,
      "outputs": [
        {
          "output_type": "stream",
          "name": "stdout",
          "text": [
            "El cuadrado de 5 es:  25\n"
          ]
        }
      ]
    },
    {
      "cell_type": "code",
      "source": [
        "#10\n",
        "vocales = \"aeiouAEIOU\"\n",
        "texto = (input(\"dame una palabra: \"))\n",
        "cont = 0\n",
        "\n",
        "for char in texto:\n",
        "  if char in vocales:\n",
        "    cont +=1\n",
        "print(f\"El numero de vocales es {cont}\")\n"
      ],
      "metadata": {
        "id": "xadQT8K0ADyn",
        "colab": {
          "base_uri": "https://localhost:8080/"
        },
        "outputId": "b2119cf9-8b80-4de5-c487-3a23f9727ac3"
      },
      "execution_count": null,
      "outputs": [
        {
          "output_type": "stream",
          "name": "stdout",
          "text": [
            "dame una palabra: Hola\n",
            "El numero de vocales es 2\n"
          ]
        }
      ]
    },
    {
      "cell_type": "code",
      "source": [
        "#11\n",
        "numeros = list(range(1,11))\n",
        "\n",
        "numeros_pares= [numero for numero in numeros if numero %2 ==0 ]\n",
        "print(\"Los numeros pares de la lista son:\", numeros_pares)"
      ],
      "metadata": {
        "colab": {
          "base_uri": "https://localhost:8080/"
        },
        "id": "eiLLdlJyOtWE",
        "outputId": "2918ace0-e6d0-4a51-a693-4a1debd3c80f"
      },
      "execution_count": null,
      "outputs": [
        {
          "output_type": "stream",
          "name": "stdout",
          "text": [
            "Los numeros pares de la lista son: [2, 4, 6, 8, 10]\n"
          ]
        }
      ]
    },
    {
      "cell_type": "code",
      "source": [
        "#12\n",
        "edades = {\"Iker\": 19, \"Walter\": 19, \"Imanol\": 19}\n",
        "nombre = (input(\"Ingrese un nombre:\"))\n",
        "edad = edades.get(nombre, \"Nulo\")\n",
        "print(\"La edad de\", nombre, \"es:\", edad)"
      ],
      "metadata": {
        "colab": {
          "base_uri": "https://localhost:8080/"
        },
        "id": "2yvz3O_XUJlI",
        "outputId": "c1cbda74-8835-4aa3-ec0e-d59dcef5a9c8"
      },
      "execution_count": null,
      "outputs": [
        {
          "output_type": "stream",
          "name": "stdout",
          "text": [
            "Ingrese un nombre:Walter\n",
            "La edad de Walter es: 19\n"
          ]
        }
      ]
    },
    {
      "cell_type": "code",
      "source": [
        "#13\n",
        "numeros = [1,2,3,4,5,6,7,8,9,10]\n",
        "grande = max(numeros)\n",
        "print (\"El numero mas grande es: \", grande)"
      ],
      "metadata": {
        "colab": {
          "base_uri": "https://localhost:8080/"
        },
        "id": "u4ykRYR0VJOK",
        "outputId": "f2f67d8b-7fe8-4de8-f606-82ade924c251"
      },
      "execution_count": null,
      "outputs": [
        {
          "output_type": "stream",
          "name": "stdout",
          "text": [
            "El numero mas grande es:  10\n"
          ]
        }
      ]
    },
    {
      "cell_type": "code",
      "source": [
        "#14\n",
        "def espalindromo(palabra):\n",
        "  palabra = palabra.lower()\n",
        "  palabraalreves= palabra[::-1]\n",
        "  return palabra == palabraalreves\n",
        "\n",
        "  palabra = (input(\"Ingrese una palabra: \"))\n",
        "#14\n",
        "def espalindromo(palabra):\n",
        "  palabra = palabra.lower()\n",
        "  palabraalreves= palabra[::-1]\n",
        "  return palabra == palabraalreves\n",
        "\n",
        "palabra = (input(\"Ingrese una palabra: \"))\n",
        "if espalindromo(palabra):\n",
        "  print(\"La palabra\", palabra, \"es un palindromo\")\n",
        "else:\n",
        "  print(\"La palabra\", palabra, \"no se un palindromo\")"
      ],
      "metadata": {
        "colab": {
          "base_uri": "https://localhost:8080/"
        },
        "id": "4DhegsT_VjxI",
        "outputId": "748f8dd6-3f36-4dfb-8f09-6bb326aad9a7"
      },
      "execution_count": null,
      "outputs": [
        {
          "output_type": "stream",
          "name": "stdout",
          "text": [
            "Ingrese una palabra: Ana\n",
            "La palabra Ana es un palindromo\n"
          ]
        }
      ]
    },
    {
      "cell_type": "code",
      "source": [
        "#15\n",
        "def mayor(num1, num2):\n",
        "    if num1 > num2:\n",
        "        return num1\n",
        "    else:\n",
        "        return num2\n",
        "\n",
        "num1 = 25\n",
        "num2 = 29\n",
        "resultado = mayor(num1, num2)\n",
        "print(\"El número mayor de\", num1, \"y\", num2, \"es:\", resultado)"
      ],
      "metadata": {
        "colab": {
          "base_uri": "https://localhost:8080/"
        },
        "id": "6_5CN2gxWbsM",
        "outputId": "b5005657-5ca0-4f43-d74d-6fbef7ec5bd4"
      },
      "execution_count": null,
      "outputs": [
        {
          "output_type": "stream",
          "name": "stdout",
          "text": [
            "El número mayor entre 25 y 29 es: 29\n"
          ]
        }
      ]
    },
    {
      "cell_type": "code",
      "source": [
        "#16\n",
        "numero = int(input(\"ingresa iu  numero: \"))\n",
        "for i in range(1,11):\n",
        "  print( numero, \"x\", i, \"=\", numero*i)"
      ],
      "metadata": {
        "colab": {
          "base_uri": "https://localhost:8080/"
        },
        "id": "bBtuu5tgXA-1",
        "outputId": "521b1e0c-2e2e-49c2-c8a7-ff69bdf137e4"
      },
      "execution_count": null,
      "outputs": [
        {
          "output_type": "stream",
          "name": "stdout",
          "text": [
            "ingresa iu  numero: 7\n",
            "7 x 1 = 7\n",
            "7 x 2 = 14\n",
            "7 x 3 = 21\n",
            "7 x 4 = 28\n",
            "7 x 5 = 35\n",
            "7 x 6 = 42\n",
            "7 x 7 = 49\n",
            "7 x 8 = 56\n",
            "7 x 9 = 63\n",
            "7 x 10 = 70\n"
          ]
        }
      ]
    },
    {
      "cell_type": "code",
      "source": [
        "#17\n",
        "def primo(numero):\n",
        "    if numero < 2:\n",
        "        return False\n",
        "    for i in range(2, int(numero**0.5) + 1):\n",
        "        if numero % i == 0:\n",
        "            return False\n",
        "    return True\n",
        "\n",
        "def primoshasta(n):\n",
        "    primos = []\n",
        "    for num in range(2, n + 1):\n",
        "        if primo(num):\n",
        "            primos.append(num)\n",
        "    return primos\n",
        "\n",
        "# Ejemplo de uso\n",
        "n = 20\n",
        "resultado = primoshasta(n)\n",
        "print(\"Los números primos hasta\", n, \"son:\", resultado)\n"
      ],
      "metadata": {
        "id": "Z0dvefmYYlbv",
        "colab": {
          "base_uri": "https://localhost:8080/"
        },
        "outputId": "78bf1d63-b0cb-45d8-cadd-97c247d324f7"
      },
      "execution_count": 2,
      "outputs": [
        {
          "output_type": "stream",
          "name": "stdout",
          "text": [
            "Los números primos hasta 20 son: [2, 3, 5, 7, 11, 13, 17, 19]\n"
          ]
        }
      ]
    }
  ]
}