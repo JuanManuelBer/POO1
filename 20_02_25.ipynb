{
  "nbformat": 4,
  "nbformat_minor": 0,
  "metadata": {
    "colab": {
      "provenance": []
    },
    "kernelspec": {
      "name": "python3",
      "display_name": "Python 3"
    },
    "language_info": {
      "name": "python"
    }
  },
  "cells": [
    {
      "cell_type": "code",
      "execution_count": null,
      "metadata": {
        "id": "jiTRdXd9Ggra"
      },
      "outputs": [],
      "source": [
        "\n",
        "import itertools\n",
        "from itertools import product"
      ]
    },
    {
      "cell_type": "markdown",
      "source": [
        "#Ejemplo del uso de la probabilidad clásico\n",
        "Tenemos el siguiente experimento. Lanzamos dos dados honestos\n",
        "\n"
      ],
      "metadata": {
        "id": "fxf8WwAlG-Tu"
      }
    },
    {
      "cell_type": "code",
      "source": [
        "Omega= set( product({1,2,3,4,5,6}, repeat=2) )\n",
        "Omega\n"
      ],
      "metadata": {
        "colab": {
          "base_uri": "https://localhost:8080/"
        },
        "id": "Wj5L9MyGHYVl",
        "outputId": "6d1a5758-ac84-4756-cd85-f07b8e9d70b2"
      },
      "execution_count": null,
      "outputs": [
        {
          "output_type": "execute_result",
          "data": {
            "text/plain": [
              "{(1, 1),\n",
              " (1, 2),\n",
              " (1, 3),\n",
              " (1, 4),\n",
              " (1, 5),\n",
              " (1, 6),\n",
              " (2, 1),\n",
              " (2, 2),\n",
              " (2, 3),\n",
              " (2, 4),\n",
              " (2, 5),\n",
              " (2, 6),\n",
              " (3, 1),\n",
              " (3, 2),\n",
              " (3, 3),\n",
              " (3, 4),\n",
              " (3, 5),\n",
              " (3, 6),\n",
              " (4, 1),\n",
              " (4, 2),\n",
              " (4, 3),\n",
              " (4, 4),\n",
              " (4, 5),\n",
              " (4, 6),\n",
              " (5, 1),\n",
              " (5, 2),\n",
              " (5, 3),\n",
              " (5, 4),\n",
              " (5, 5),\n",
              " (5, 6),\n",
              " (6, 1),\n",
              " (6, 2),\n",
              " (6, 3),\n",
              " (6, 4),\n",
              " (6, 5),\n",
              " (6, 6)}"
            ]
          },
          "metadata": {},
          "execution_count": 2
        }
      ]
    },
    {
      "cell_type": "markdown",
      "source": [
        "La probabilidad de un evento, se calcula como\n",
        "\n",
        "\n",
        "Consideremos al siguiente evento:\n",
        "\n",
        ": la suma de los resultados de las caras sea 7"
      ],
      "metadata": {
        "id": "5cn5h9svHvsm"
      }
    },
    {
      "cell_type": "code",
      "source": [
        "S={o for o in Omega if (o[0]+o[1]== 7)}\n",
        "S\n",
        ""
      ],
      "metadata": {
        "colab": {
          "base_uri": "https://localhost:8080/"
        },
        "id": "YbmMXN3pICc5",
        "outputId": "93ce6458-2e97-48f2-d99e-14f30a381438"
      },
      "execution_count": 3,
      "outputs": [
        {
          "output_type": "execute_result",
          "data": {
            "text/plain": [
              "{(1, 6), (2, 5), (3, 4), (4, 3), (5, 2), (6, 1)}"
            ]
          },
          "metadata": {},
          "execution_count": 3
        }
      ]
    },
    {
      "cell_type": "code",
      "source": [
        "p=len(S)/len(Omega)\n",
        "print(f\"La probabilidad que la suma sea 7 es: {p}\")"
      ],
      "metadata": {
        "colab": {
          "base_uri": "https://localhost:8080/"
        },
        "id": "yhmtctJ_IP-q",
        "outputId": "78965887-e935-48a8-937d-3eb73a1449d3"
      },
      "execution_count": 4,
      "outputs": [
        {
          "output_type": "stream",
          "name": "stdout",
          "text": [
            "La probabilidad que la suma sea 7 es: 0.16666666666666666\n"
          ]
        }
      ]
    },
    {
      "cell_type": "code",
      "source": [
        "from fractions import Fraction\n",
        "Fraction (2,5)"
      ],
      "metadata": {
        "colab": {
          "base_uri": "https://localhost:8080/"
        },
        "id": "Q986r2evISmQ",
        "outputId": "b909c99a-08e4-42a7-c7bd-589bd68c809c"
      },
      "execution_count": 5,
      "outputs": [
        {
          "output_type": "execute_result",
          "data": {
            "text/plain": [
              "Fraction(2, 5)"
            ]
          },
          "metadata": {},
          "execution_count": 5
        }
      ]
    },
    {
      "cell_type": "code",
      "source": [
        "#Vamos a crear una función para calcular probabilidades\n",
        "def S(n):\n",
        "  S= {o for o in Omega if (o[0]+o[1])==n}\n",
        "  return S"
      ],
      "metadata": {
        "id": "ly2VcxbwIVL9"
      },
      "execution_count": 6,
      "outputs": []
    },
    {
      "cell_type": "code",
      "source": [
        "S(2)"
      ],
      "metadata": {
        "colab": {
          "base_uri": "https://localhost:8080/"
        },
        "id": "ysEf-t2YIXuV",
        "outputId": "a9eb7fc9-6840-4dbb-be2a-961738539ba0"
      },
      "execution_count": 7,
      "outputs": [
        {
          "output_type": "execute_result",
          "data": {
            "text/plain": [
              "{(1, 1)}"
            ]
          },
          "metadata": {},
          "execution_count": 7
        }
      ]
    },
    {
      "cell_type": "code",
      "source": [
        "S(3)"
      ],
      "metadata": {
        "colab": {
          "base_uri": "https://localhost:8080/"
        },
        "id": "_Wtnp498IaZD",
        "outputId": "602e0fa7-b162-4652-e769-b07916be5bb9"
      },
      "execution_count": 8,
      "outputs": [
        {
          "output_type": "execute_result",
          "data": {
            "text/plain": [
              "{(1, 2), (2, 1)}"
            ]
          },
          "metadata": {},
          "execution_count": 8
        }
      ]
    },
    {
      "cell_type": "code",
      "source": [
        "S(4)"
      ],
      "metadata": {
        "colab": {
          "base_uri": "https://localhost:8080/"
        },
        "id": "PzUR4djNIcyI",
        "outputId": "67970b3d-b34f-4d7a-c151-865d1efd4706"
      },
      "execution_count": 9,
      "outputs": [
        {
          "output_type": "execute_result",
          "data": {
            "text/plain": [
              "{(1, 3), (2, 2), (3, 1)}"
            ]
          },
          "metadata": {},
          "execution_count": 9
        }
      ]
    },
    {
      "cell_type": "code",
      "source": [
        "len(Omega)"
      ],
      "metadata": {
        "colab": {
          "base_uri": "https://localhost:8080/"
        },
        "id": "SSD9to_iIhrF",
        "outputId": "3cdb3bc6-08f0-414a-9dbc-5af7adb666ce"
      },
      "execution_count": 10,
      "outputs": [
        {
          "output_type": "execute_result",
          "data": {
            "text/plain": [
              "36"
            ]
          },
          "metadata": {},
          "execution_count": 10
        }
      ]
    },
    {
      "cell_type": "code",
      "source": [
        "#Vamos a crear la función de probabilidad\n",
        "def P(A,Omega):\n",
        "  return Fraction(len(A), len (Omega))\n",
        ""
      ],
      "metadata": {
        "id": "TrbeCfXmIkM_"
      },
      "execution_count": 11,
      "outputs": []
    },
    {
      "cell_type": "code",
      "source": [
        "P(S(7),Omega)"
      ],
      "metadata": {
        "colab": {
          "base_uri": "https://localhost:8080/"
        },
        "id": "75ELwLu8Imcs",
        "outputId": "57e503ec-5884-4eab-d6d4-5d094e00cb75"
      },
      "execution_count": 12,
      "outputs": [
        {
          "output_type": "execute_result",
          "data": {
            "text/plain": [
              "Fraction(1, 6)"
            ]
          },
          "metadata": {},
          "execution_count": 12
        }
      ]
    },
    {
      "cell_type": "code",
      "source": [
        "P(S(9),Omega)"
      ],
      "metadata": {
        "colab": {
          "base_uri": "https://localhost:8080/"
        },
        "id": "B7G-dUugIpRi",
        "outputId": "297dbdb0-9a15-4cc1-e221-6da3f4c4cae7"
      },
      "execution_count": 13,
      "outputs": [
        {
          "output_type": "execute_result",
          "data": {
            "text/plain": [
              "Fraction(1, 9)"
            ]
          },
          "metadata": {},
          "execution_count": 13
        }
      ]
    },
    {
      "cell_type": "markdown",
      "source": [
        "##Matrices y operaciones"
      ],
      "metadata": {
        "id": "dadl3mQ0Irrj"
      }
    },
    {
      "cell_type": "code",
      "source": [
        "import numpy as np\n",
        "\n",
        "class Matriz:\n",
        "  def __init__(self, renglones, columnas):\n",
        "    self.renglones=renglones\n",
        "    self.columnas= columnas\n",
        "    self.coef = np.zeros((renglones, columnas))\n",
        "\n",
        "    def coeficientes(self):\n",
        "      print(f\"Ingresa los coeficientes de la matriz ({self.renglones}x{self.columnas})\")\n",
        "      for i in range(self.renglones):\n",
        "        self.coef[i]=map(float, input().split())\n",
        "\n",
        "        def mostrar_matriz(self):\n",
        "          print(self.coef)\n",
        ""
      ],
      "metadata": {
        "id": "LcmnXT6iIugx"
      },
      "execution_count": 14,
      "outputs": []
    },
    {
      "cell_type": "code",
      "source": [
        "mat=np.array([25,45,67,8,0,1,1,5,18]).reshape(3,3)\n",
        "np.linalg.det(mat)"
      ],
      "metadata": {
        "id": "-xp6ewO-I1VW",
        "outputId": "f1b18c47-a846-422e-c9d9-be789233d785",
        "colab": {
          "base_uri": "https://localhost:8080/"
        }
      },
      "execution_count": 15,
      "outputs": [
        {
          "output_type": "execute_result",
          "data": {
            "text/plain": [
              "-3879.999999999998"
            ]
          },
          "metadata": {},
          "execution_count": 15
        }
      ]
    }
  ]
}