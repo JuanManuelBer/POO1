{
  "nbformat": 4,
  "nbformat_minor": 0,
  "metadata": {
    "colab": {
      "provenance": []
    },
    "kernelspec": {
      "name": "python3",
      "display_name": "Python 3"
    },
    "language_info": {
      "name": "python"
    }
  },
  "cells": [
    {
      "cell_type": "code",
      "execution_count": null,
      "metadata": {
        "id": "fiCMG5-vI_7L"
      },
      "outputs": [],
      "source": []
    },
    {
      "cell_type": "markdown",
      "source": [
        "##Algunas funciones en Python\n",
        "input\n",
        "lambda\n",
        "map\n",
        "\n",
        "##Ejemplos de la función input\n"
      ],
      "metadata": {
        "id": "E014NofGJDPj"
      }
    },
    {
      "cell_type": "code",
      "source": [
        "Ceci= input(\"¿De quién es cumpleaños?\")"
      ],
      "metadata": {
        "colab": {
          "base_uri": "https://localhost:8080/"
        },
        "id": "oL2Si9B6JaGK",
        "outputId": "661eb95a-84b9-40e6-bcdc-fe2ebaac374e"
      },
      "execution_count": 2,
      "outputs": [
        {
          "name": "stdout",
          "output_type": "stream",
          "text": [
            "¿De quién es cumpleaños?Ceci\n"
          ]
        }
      ]
    },
    {
      "cell_type": "code",
      "source": [
        "edad=  int(input(\"¿Cuántos años cumples?\"))"
      ],
      "metadata": {
        "colab": {
          "base_uri": "https://localhost:8080/"
        },
        "id": "5BDeQZXLJnQH",
        "outputId": "b900e372-c064-4111-95cc-93ce35dd1117"
      },
      "execution_count": 3,
      "outputs": [
        {
          "name": "stdout",
          "output_type": "stream",
          "text": [
            "¿Cuántos años cumples?19\n"
          ]
        }
      ]
    },
    {
      "cell_type": "code",
      "source": [
        "print(f\"Hoy es cumple de{Ceci} y cumple {edad}\")"
      ],
      "metadata": {
        "colab": {
          "base_uri": "https://localhost:8080/"
        },
        "id": "oshGcEvLJqOX",
        "outputId": "831586cf-22d6-4f92-f10d-6fed47a9a0db"
      },
      "execution_count": 4,
      "outputs": [
        {
          "output_type": "stream",
          "name": "stdout",
          "text": [
            "Hoy es cumple deCeci y cumple 19\n"
          ]
        }
      ]
    },
    {
      "cell_type": "markdown",
      "source": [
        "##La función lambda\n",
        "Es una función anónima (no tiene nombre) y sirve para crear funciones ad hoc (dentro de un sólo código)."
      ],
      "metadata": {
        "id": "v-QeHoM2Juuq"
      }
    },
    {
      "cell_type": "code",
      "source": [
        "def cuadrado(x):\n",
        "  z=x**2\n",
        "  return z\n",
        ""
      ],
      "metadata": {
        "id": "w4L0UQr1JxGj"
      },
      "execution_count": 5,
      "outputs": []
    },
    {
      "cell_type": "code",
      "source": [
        "cuadrado (25)"
      ],
      "metadata": {
        "colab": {
          "base_uri": "https://localhost:8080/"
        },
        "id": "cg8Y0hmdJ0Zo",
        "outputId": "3a5a81b0-6cac-4e28-f7f2-a111177090d6"
      },
      "execution_count": 6,
      "outputs": [
        {
          "output_type": "execute_result",
          "data": {
            "text/plain": [
              "625"
            ]
          },
          "metadata": {},
          "execution_count": 6
        }
      ]
    },
    {
      "cell_type": "code",
      "source": [
        "cuad=lambda x:x**2\n",
        "cuad (2)\n",
        ""
      ],
      "metadata": {
        "colab": {
          "base_uri": "https://localhost:8080/"
        },
        "id": "f0LY0NZMJ2wj",
        "outputId": "9395fd3e-75c0-4197-e6b3-d70af248fa51"
      },
      "execution_count": 7,
      "outputs": [
        {
          "output_type": "execute_result",
          "data": {
            "text/plain": [
              "4"
            ]
          },
          "metadata": {},
          "execution_count": 7
        }
      ]
    },
    {
      "cell_type": "code",
      "source": [
        "\n",
        "operacion= lambda x,y:x**2 + x*y + 2\n",
        "operacion(2,3)"
      ],
      "metadata": {
        "colab": {
          "base_uri": "https://localhost:8080/"
        },
        "id": "fE_SFStgJ5r9",
        "outputId": "63f1917d-fc53-4abf-f43b-ad20f163e3ac"
      },
      "execution_count": 8,
      "outputs": [
        {
          "output_type": "execute_result",
          "data": {
            "text/plain": [
              "12"
            ]
          },
          "metadata": {},
          "execution_count": 8
        }
      ]
    },
    {
      "cell_type": "code",
      "source": [
        "import math\n",
        "from math import pi, e"
      ],
      "metadata": {
        "id": "LU2T13k3J8U6"
      },
      "execution_count": 9,
      "outputs": []
    },
    {
      "cell_type": "code",
      "source": [
        "\n",
        "pi, e"
      ],
      "metadata": {
        "colab": {
          "base_uri": "https://localhost:8080/"
        },
        "id": "mlvW4ctAJ--Q",
        "outputId": "e6aa6df8-3e7f-40c3-ae6d-3b9aa0777a18"
      },
      "execution_count": 10,
      "outputs": [
        {
          "output_type": "execute_result",
          "data": {
            "text/plain": [
              "(3.141592653589793, 2.718281828459045)"
            ]
          },
          "metadata": {},
          "execution_count": 10
        }
      ]
    },
    {
      "cell_type": "code",
      "source": [
        "\n",
        "area_circulo= lambda r:pi*r**2\n",
        "area_circulo(1)"
      ],
      "metadata": {
        "colab": {
          "base_uri": "https://localhost:8080/"
        },
        "id": "C_ayAp7ZKBgU",
        "outputId": "ecd66aeb-a5b1-4a63-8e55-b3539bd1b7a4"
      },
      "execution_count": 11,
      "outputs": [
        {
          "output_type": "execute_result",
          "data": {
            "text/plain": [
              "3.141592653589793"
            ]
          },
          "metadata": {},
          "execution_count": 11
        }
      ]
    },
    {
      "cell_type": "markdown",
      "source": [
        "##La función map"
      ],
      "metadata": {
        "id": "jUs0BI32KDvl"
      }
    },
    {
      "cell_type": "code",
      "source": [
        "residuo= list(map(lambda x:x%2, [i for i in range(1,101)]))"
      ],
      "metadata": {
        "id": "LJl3eZxkKFh3"
      },
      "execution_count": 12,
      "outputs": []
    },
    {
      "cell_type": "code",
      "source": [
        "def residuo_(x):\n",
        "  for x in range(1,101):\n",
        "    return x%2\n",
        ""
      ],
      "metadata": {
        "id": "9Eb1daWBKJqz"
      },
      "execution_count": 13,
      "outputs": []
    },
    {
      "cell_type": "code",
      "source": [
        "residuo_(3)"
      ],
      "metadata": {
        "colab": {
          "base_uri": "https://localhost:8080/"
        },
        "id": "mNZMuO71KLwA",
        "outputId": "893becac-a171-44b5-f6fa-533e160a4a83"
      },
      "execution_count": 14,
      "outputs": [
        {
          "output_type": "execute_result",
          "data": {
            "text/plain": [
              "1"
            ]
          },
          "metadata": {},
          "execution_count": 14
        }
      ]
    },
    {
      "cell_type": "code",
      "source": [
        "\n",
        "exponenciales= set(map(lambda x:e**x, [i for i in range(1,10)]))\n",
        "exponenciales"
      ],
      "metadata": {
        "id": "1S_P42QbKN7g",
        "outputId": "52b58cd4-f823-44a1-a9be-20b785f36c7a",
        "colab": {
          "base_uri": "https://localhost:8080/"
        }
      },
      "execution_count": 15,
      "outputs": [
        {
          "output_type": "execute_result",
          "data": {
            "text/plain": [
              "{2.718281828459045,\n",
              " 7.3890560989306495,\n",
              " 20.085536923187664,\n",
              " 54.59815003314423,\n",
              " 148.41315910257657,\n",
              " 403.428793492735,\n",
              " 1096.6331584284583,\n",
              " 2980.957987041727,\n",
              " 8103.08392757538}"
            ]
          },
          "metadata": {},
          "execution_count": 15
        }
      ]
    }
  ]
}