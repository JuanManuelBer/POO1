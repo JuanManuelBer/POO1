{
  "nbformat": 4,
  "nbformat_minor": 0,
  "metadata": {
    "colab": {
      "provenance": []
    },
    "kernelspec": {
      "name": "python3",
      "display_name": "Python 3"
    },
    "language_info": {
      "name": "python"
    }
  },
  "cells": [
    {
      "cell_type": "code",
      "execution_count": null,
      "metadata": {
        "id": "mPSephC8rQSE"
      },
      "outputs": [],
      "source": []
    },
    {
      "cell_type": "markdown",
      "source": [
        "##Listas e Ingresos a Listas\n",
        "\n",
        "range(a,b)\n",
        "\n",
        "\n",
        "1.   $a\\geq 0$\n",
        "2.   $a\\le 0$\n",
        "3.   $a\\le b$\n",
        "\n",
        "\n",
        "\n",
        "\n",
        "\n",
        "\n",
        "\n"
      ],
      "metadata": {
        "id": "afcakEGjsKFx"
      }
    },
    {
      "cell_type": "code",
      "source": [
        "range(10)\n",
        "type (range(10))"
      ],
      "metadata": {
        "colab": {
          "base_uri": "https://localhost:8080/"
        },
        "id": "goDW-d60x3dD",
        "outputId": "b34317d3-c1a0-4641-ee2a-67c267374ef9"
      },
      "execution_count": 3,
      "outputs": [
        {
          "output_type": "execute_result",
          "data": {
            "text/plain": [
              "range"
            ]
          },
          "metadata": {},
          "execution_count": 3
        }
      ]
    },
    {
      "cell_type": "code",
      "source": [
        "for i in range(10):\n",
        "  print(i)"
      ],
      "metadata": {
        "colab": {
          "base_uri": "https://localhost:8080/"
        },
        "id": "Srn9lVjQy0n3",
        "outputId": "cd05a3cc-c7ca-44cd-fb91-dbbb4658e049"
      },
      "execution_count": 4,
      "outputs": [
        {
          "output_type": "stream",
          "name": "stdout",
          "text": [
            "0\n",
            "1\n",
            "2\n",
            "3\n",
            "4\n",
            "5\n",
            "6\n",
            "7\n",
            "8\n",
            "9\n"
          ]
        }
      ]
    },
    {
      "cell_type": "code",
      "source": [
        "x = 7\n",
        "str(x)\n",
        "float(x)"
      ],
      "metadata": {
        "colab": {
          "base_uri": "https://localhost:8080/"
        },
        "id": "6WFn8Y--1SbT",
        "outputId": "9ae6edc7-d0d0-446d-d877-7b344dbe1df8"
      },
      "execution_count": 5,
      "outputs": [
        {
          "output_type": "execute_result",
          "data": {
            "text/plain": [
              "7.0"
            ]
          },
          "metadata": {},
          "execution_count": 5
        }
      ]
    },
    {
      "cell_type": "markdown",
      "source": [
        "## Listas y Arreglos"
      ],
      "metadata": {
        "id": "FIB5781I-je3"
      }
    },
    {
      "cell_type": "code",
      "source": [
        "Indices= [i for i in range(0,21)]\n",
        "print(f\"Etiquetas: {Indices}\")"
      ],
      "metadata": {
        "colab": {
          "base_uri": "https://localhost:8080/"
        },
        "id": "uxPsF2ktAi2h",
        "outputId": "e72fa54c-c800-4f2a-de4a-ca1f12c98910"
      },
      "execution_count": 10,
      "outputs": [
        {
          "output_type": "stream",
          "name": "stdout",
          "text": [
            "Etiquetas: [0, 1, 2, 3, 4, 5, 6, 7, 8, 9, 10, 11, 12, 13, 14, 15, 16, 17, 18, 19, 20]\n"
          ]
        }
      ]
    },
    {
      "cell_type": "code",
      "source": [
        "Multiplos_3= [i for i in range(21) if i%3==0]\n",
        "print(f\"Multiplos_3: {Multiplos_3}\") //ETIQUETAS EN PYTHOIN EMPIEZAN EN 0"
      ],
      "metadata": {
        "colab": {
          "base_uri": "https://localhost:8080/"
        },
        "id": "2QEtRhCnA75m",
        "outputId": "85b67447-77de-4571-cf30-354768ac4fdc"
      },
      "execution_count": 9,
      "outputs": [
        {
          "output_type": "stream",
          "name": "stdout",
          "text": [
            "[0, 3, 6, 9, 12, 15, 18]\n"
          ]
        }
      ]
    },
    {
      "cell_type": "markdown",
      "source": [
        "## INGRESOS"
      ],
      "metadata": {
        "id": "siFxU7jnEzX_"
      }
    },
    {
      "cell_type": "code",
      "source": [
        "Ceci = []\n",
        "\n",
        "Ceci.append(18)"
      ],
      "metadata": {
        "id": "pVGCTEC8FHxA"
      },
      "execution_count": 14,
      "outputs": []
    },
    {
      "cell_type": "code",
      "source": [
        "Ceci.insert(1, \"Violin\")"
      ],
      "metadata": {
        "id": "WeHE7l1DI1Ar"
      },
      "execution_count": 16,
      "outputs": []
    },
    {
      "cell_type": "code",
      "source": [
        "Ceci.append(1.62)"
      ],
      "metadata": {
        "id": "sOYDrUi6HQf-"
      },
      "execution_count": 18,
      "outputs": []
    },
    {
      "cell_type": "code",
      "source": [
        "Ceci.insert(4, \"Perro\")"
      ],
      "metadata": {
        "id": "2uOxIvnRs76L"
      },
      "execution_count": null,
      "outputs": []
    },
    {
      "cell_type": "code",
      "source": [
        "[] Ceci.remove(\"Perro\")"
      ],
      "metadata": {
        "id": "xDaSCVpJtUc8"
      },
      "execution_count": null,
      "outputs": []
    },
    {
      "cell_type": "code",
      "source": [
        "Ceci.pop(1)"
      ],
      "metadata": {
        "id": "7OSpzu51tb2L"
      },
      "execution_count": null,
      "outputs": []
    },
    {
      "cell_type": "code",
      "source": [
        "Ceci[0:2]"
      ],
      "metadata": {
        "id": "lT-OVceGtf3f"
      },
      "execution_count": null,
      "outputs": []
    },
    {
      "cell_type": "code",
      "source": [
        "Indices[0, 3, 6, 9, 12, 15, 18]"
      ],
      "metadata": {
        "id": "UzZzyh5ItkSc"
      },
      "execution_count": null,
      "outputs": []
    }
  ]
}