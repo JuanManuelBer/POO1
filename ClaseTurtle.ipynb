{
  "nbformat": 4,
  "nbformat_minor": 0,
  "metadata": {
    "colab": {
      "provenance": []
    },
    "kernelspec": {
      "name": "python3",
      "display_name": "Python 3"
    },
    "language_info": {
      "name": "python"
    }
  },
  "cells": [
    {
      "cell_type": "markdown",
      "source": [
        "#Clases o Herencias"
      ],
      "metadata": {
        "id": "pjCRSdzsKknF"
      }
    },
    {
      "cell_type": "markdown",
      "source": [
        "¿Que es una clase?\n",
        "\n",
        "Son aquellos en donde se pueden crear objetos de datos. Por ejemplo: Un grupo o conjunto del mismo grado. En pocas palabras es un grupo con condiciones que se utiliza para agrupar y ordenar datos."
      ],
      "metadata": {
        "id": "6gbuHfaEKsun"
      }
    },
    {
      "cell_type": "code",
      "execution_count": 2,
      "metadata": {
        "id": "xUtlJ22pGvjC"
      },
      "outputs": [],
      "source": [
        "class Alvaro():\n",
        "  pass"
      ]
    },
    {
      "cell_type": "code",
      "source": [
        "Alvaro()"
      ],
      "metadata": {
        "colab": {
          "base_uri": "https://localhost:8080/"
        },
        "id": "NHwjZuvgKy9H",
        "outputId": "15435983-e3c1-4515-8b54-067b59d254f3"
      },
      "execution_count": 3,
      "outputs": [
        {
          "output_type": "execute_result",
          "data": {
            "text/plain": [
              "<__main__.Alvaro at 0x799474110e90>"
            ]
          },
          "metadata": {},
          "execution_count": 3
        }
      ]
    },
    {
      "cell_type": "code",
      "source": [
        "# Vamos a crear una clase que se llamara Alvaro\n",
        "\n",
        "class Alvaro:\n",
        "  def __init__(self, edad, bff, Ceci):\n",
        "    self.edad= edad\n",
        "    self.bff= bff\n",
        "    self.Ceci= Ceci\n",
        "\n",
        "  # Definir Clase\n",
        "  def saludar(self):\n",
        "    print(f\"A los {self.edad} conoci a mi amigo {self.bff}\")\n",
        "\n",
        "  def chisme(self):\n",
        "    print(f\"Alvaro esta en el chisme con {self.bff} y con {self.Ceci}\")\n",
        "\n"
      ],
      "metadata": {
        "id": "tPSLAhMuK6GA"
      },
      "execution_count": 25,
      "outputs": []
    },
    {
      "cell_type": "code",
      "source": [
        "avo = Alvaro(18, \"Jaume\", \"Ceci\")"
      ],
      "metadata": {
        "id": "o_Lw7BEUSU_u"
      },
      "execution_count": 27,
      "outputs": []
    },
    {
      "cell_type": "code",
      "source": [
        "#Cuales son los argumentos de la clase?\n",
        "\n",
        "avo.edad, avo.bff"
      ],
      "metadata": {
        "colab": {
          "base_uri": "https://localhost:8080/"
        },
        "id": "Y1TMNbddUEb_",
        "outputId": "3e5f1373-0cc9-4e40-f084-2318f01c51c2"
      },
      "execution_count": 28,
      "outputs": [
        {
          "output_type": "execute_result",
          "data": {
            "text/plain": [
              "(18, 'Jaume')"
            ]
          },
          "metadata": {},
          "execution_count": 28
        }
      ]
    },
    {
      "cell_type": "code",
      "source": [
        "avo.saludar()"
      ],
      "metadata": {
        "colab": {
          "base_uri": "https://localhost:8080/"
        },
        "id": "OcVIgZ1cVW-p",
        "outputId": "2dc3867f-e069-4679-b568-61ec44adc6dd"
      },
      "execution_count": 29,
      "outputs": [
        {
          "output_type": "stream",
          "name": "stdout",
          "text": [
            "A los 18 conoci a mi amigo Jaume\n"
          ]
        }
      ]
    },
    {
      "cell_type": "code",
      "source": [
        "#Que esta haciendo alvaro?\n",
        "\n",
        "avo.chisme()"
      ],
      "metadata": {
        "colab": {
          "base_uri": "https://localhost:8080/"
        },
        "id": "gPcf1uGWVdI9",
        "outputId": "4e4c879a-7aaf-40e1-b2c8-46c7620313f1"
      },
      "execution_count": 30,
      "outputs": [
        {
          "output_type": "stream",
          "name": "stdout",
          "text": [
            "Alvaro esta en el chisme con Jaume y con Ceci\n"
          ]
        }
      ]
    }
  ]
}