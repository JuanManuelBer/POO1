{
  "nbformat": 4,
  "nbformat_minor": 0,
  "metadata": {
    "colab": {
      "provenance": []
    },
    "kernelspec": {
      "name": "python3",
      "display_name": "Python 3"
    },
    "language_info": {
      "name": "python"
    }
  },
  "cells": [
    {
      "cell_type": "markdown",
      "source": [
        "#Clases\n",
        "No tomen argumentos\n",
        "\n",
        "Muestra enunciados usando el método de inicialización init\n",
        "\n",
        "El método para crear clases es class"
      ],
      "metadata": {
        "id": "3filAhu8FneF"
      }
    },
    {
      "cell_type": "code",
      "execution_count": 5,
      "metadata": {
        "id": "bRqo6qi-FMGE"
      },
      "outputs": [],
      "source": [
        "\n",
        "class Alvaro:\n",
        "  def __init__(self, edad, bbf):\n",
        "    self.edad = edad\n",
        "    self.bbf = bbf\n",
        "\n",
        "  def saludar(self):\n",
        "    return \"Soy Alvaro\""
      ]
    },
    {
      "cell_type": "code",
      "source": [
        "class Juanma(Alvaro):\n",
        "  def saludar(self):\n",
        "    return \"Soy Juanma\""
      ],
      "metadata": {
        "id": "rjXrA-lmFYke"
      },
      "execution_count": 7,
      "outputs": []
    },
    {
      "cell_type": "code",
      "source": [
        "!pip3 install ColabTurtle\n",
        "from ColabTurtle.Turtle import *\n",
        ""
      ],
      "metadata": {
        "colab": {
          "base_uri": "https://localhost:8080/"
        },
        "id": "uIDL2_JIF22A",
        "outputId": "7a386400-c873-49d9-abb3-767adceb794f"
      },
      "execution_count": 4,
      "outputs": [
        {
          "output_type": "stream",
          "name": "stdout",
          "text": [
            "Collecting ColabTurtle\n",
            "  Downloading ColabTurtle-2.1.0.tar.gz (6.8 kB)\n",
            "  Preparing metadata (setup.py) ... \u001b[?25l\u001b[?25hdone\n",
            "Building wheels for collected packages: ColabTurtle\n",
            "  Building wheel for ColabTurtle (setup.py) ... \u001b[?25l\u001b[?25hdone\n",
            "  Created wheel for ColabTurtle: filename=ColabTurtle-2.1.0-py3-none-any.whl size=7642 sha256=114d26ab72867057da9a4f7248c830afc6961534637cfd1eaf36642ebc0ae4ee\n",
            "  Stored in directory: /root/.cache/pip/wheels/f6/9e/81/137e7da25129474562d30f8660be599e5c8d79228cb747e5b9\n",
            "Successfully built ColabTurtle\n",
            "Installing collected packages: ColabTurtle\n",
            "Successfully installed ColabTurtle-2.1.0\n"
          ]
        }
      ]
    }
  ]
}