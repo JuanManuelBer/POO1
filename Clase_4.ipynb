{
  "nbformat": 4,
  "nbformat_minor": 0,
  "metadata": {
    "colab": {
      "provenance": []
    },
    "kernelspec": {
      "name": "python3",
      "display_name": "Python 3"
    },
    "language_info": {
      "name": "python"
    }
  },
  "cells": [
    {
      "cell_type": "code",
      "execution_count": null,
      "metadata": {
        "id": "bs8NMZN-vAaD"
      },
      "outputs": [],
      "source": []
    },
    {
      "cell_type": "markdown",
      "source": [
        "# Arreglos y Clases\n",
        "\n",
        "## Matrices\n",
        "\n",
        "Una matriz es un arreglo de n por n elementos\n",
        "\n",
        "\\begin{bmatrix}\n",
        "a_{11} & a_{12} & \\dots & a_{1n} \\\\\n",
        "a_{21} & a_{22} & \\dots & a_{2n} \\\\\n",
        "\\vdots & \\vdots & \\ddots & \\vdots \\\\\n",
        "a_{n1} & a_{n2} & \\dots & a_{nn}\n",
        "\\end{bmatrix}"
      ],
      "metadata": {
        "id": "PSQmyFdVvFP-"
      }
    },
    {
      "cell_type": "code",
      "source": [
        "A=[[1,2,3],[4,5,6],[7,8,9]]\n",
        "print(A)"
      ],
      "metadata": {
        "colab": {
          "base_uri": "https://localhost:8080/"
        },
        "id": "7gJqgpWbxsMM",
        "outputId": "29a8fa0f-5398-43d3-90be-536eef1fd0d7"
      },
      "execution_count": 1,
      "outputs": [
        {
          "output_type": "stream",
          "name": "stdout",
          "text": [
            "[[1, 2, 3], [4, 5, 6], [7, 8, 9]]\n"
          ]
        }
      ]
    },
    {
      "cell_type": "code",
      "source": [
        "#Vamos a crear  otra lista de listas\n",
        "B=[[21,34,40],[71,17,77],[73,81,28]]\n",
        "print(A,B)\n"
      ],
      "metadata": {
        "colab": {
          "base_uri": "https://localhost:8080/"
        },
        "id": "Ms2SAhrTyYzq",
        "outputId": "affe4bae-7bcd-43ea-f1b5-6cef67cf4f34"
      },
      "execution_count": 2,
      "outputs": [
        {
          "output_type": "stream",
          "name": "stdout",
          "text": [
            "[[1, 2, 3], [4, 5, 6], [7, 8, 9]] [[21, 34, 40], [71, 17, 77], [73, 81, 28]]\n"
          ]
        }
      ]
    },
    {
      "cell_type": "code",
      "source": [
        "2*A"
      ],
      "metadata": {
        "colab": {
          "base_uri": "https://localhost:8080/"
        },
        "id": "DFrK_GFqzfgG",
        "outputId": "79fb6714-2185-401f-9775-851b71e61cba"
      },
      "execution_count": 3,
      "outputs": [
        {
          "output_type": "execute_result",
          "data": {
            "text/plain": [
              "[[1, 2, 3], [4, 5, 6], [7, 8, 9], [1, 2, 3], [4, 5, 6], [7, 8, 9]]"
            ]
          },
          "metadata": {},
          "execution_count": 3
        }
      ]
    },
    {
      "cell_type": "code",
      "source": [
        "A[0][0]\n",
        "[1,2,3]\n",
        "#A[0][0]"
      ],
      "metadata": {
        "colab": {
          "base_uri": "https://localhost:8080/"
        },
        "id": "vyLcPS7-0MNe",
        "outputId": "46c3e599-622f-49b6-a057-70d4d340a1d0"
      },
      "execution_count": 6,
      "outputs": [
        {
          "output_type": "execute_result",
          "data": {
            "text/plain": [
              "1"
            ]
          },
          "metadata": {},
          "execution_count": 6
        }
      ]
    },
    {
      "cell_type": "markdown",
      "source": [
        "##Vectores y Listas"
      ],
      "metadata": {
        "id": "Io_-lIJV1U-s"
      }
    },
    {
      "cell_type": "code",
      "source": [
        "L=A[0]\n",
        "M=B[0]\n",
        "print(L,M)"
      ],
      "metadata": {
        "colab": {
          "base_uri": "https://localhost:8080/"
        },
        "id": "eck32J2N1Yg-",
        "outputId": "79fc3d7f-4d58-4c55-959e-464fb356aa85"
      },
      "execution_count": 7,
      "outputs": [
        {
          "output_type": "stream",
          "name": "stdout",
          "text": [
            "[1, 2, 3] [21, 34, 40]\n"
          ]
        }
      ]
    },
    {
      "cell_type": "code",
      "source": [
        "a=L[0]\n",
        "b=M[0]\n",
        "a+b"
      ],
      "metadata": {
        "colab": {
          "base_uri": "https://localhost:8080/"
        },
        "id": "7DFRxDpo2G1t",
        "outputId": "0900f442-f6b2-4c8b-fabe-5200408a9580"
      },
      "execution_count": 8,
      "outputs": [
        {
          "output_type": "execute_result",
          "data": {
            "text/plain": [
              "22"
            ]
          },
          "metadata": {},
          "execution_count": 8
        }
      ]
    },
    {
      "cell_type": "code",
      "source": [
        "a==1"
      ],
      "metadata": {
        "colab": {
          "base_uri": "https://localhost:8080/"
        },
        "id": "rtZUvUNs2cXr",
        "outputId": "2f67a461-8360-4b3e-fc13-3ebcf72d3464"
      },
      "execution_count": 9,
      "outputs": [
        {
          "output_type": "execute_result",
          "data": {
            "text/plain": [
              "True"
            ]
          },
          "metadata": {},
          "execution_count": 9
        }
      ]
    },
    {
      "cell_type": "markdown",
      "source": [
        "### Suma de Vectores"
      ],
      "metadata": {
        "id": "TyxTCPsq4eAC"
      }
    },
    {
      "cell_type": "code",
      "source": [
        "len(L)==len(M)"
      ],
      "metadata": {
        "colab": {
          "base_uri": "https://localhost:8080/"
        },
        "id": "YXSFIyoA4iwR",
        "outputId": "e174e422-221f-4cdb-e574-aad5c2b3fad1"
      },
      "execution_count": 10,
      "outputs": [
        {
          "output_type": "execute_result",
          "data": {
            "text/plain": [
              "True"
            ]
          },
          "metadata": {},
          "execution_count": 10
        }
      ]
    },
    {
      "cell_type": "code",
      "source": [
        "suma=[L[0]+M[0],L[1]+M[1],L[2]+M[2]]\n",
        "print(suma)"
      ],
      "metadata": {
        "colab": {
          "base_uri": "https://localhost:8080/"
        },
        "id": "HXE9-G3W4ouL",
        "outputId": "58da2692-541c-4768-e804-8654056fdd40"
      },
      "execution_count": 11,
      "outputs": [
        {
          "output_type": "stream",
          "name": "stdout",
          "text": [
            "[22, 36, 43]\n"
          ]
        }
      ]
    },
    {
      "cell_type": "markdown",
      "source": [
        "Suma"
      ],
      "metadata": {
        "id": "6lPcTxb-5Lf-"
      }
    },
    {
      "cell_type": "code",
      "source": [
        "suma=[L[i]+M[i] for i in range (3)]\n",
        "print(suma)"
      ],
      "metadata": {
        "id": "wmXpY4db5NYN"
      },
      "execution_count": null,
      "outputs": []
    },
    {
      "cell_type": "markdown",
      "source": [
        "#### Creacion de funciones globales\n",
        "\n",
        "La funcion para crear funciones es `def`que se cierra con un debug (`print` o `return`)"
      ],
      "metadata": {
        "id": "bs-EGggcEFwC"
      }
    },
    {
      "cell_type": "code",
      "source": [
        "def Hola():\n",
        "  print(\"Hola me llamo Juanma\")"
      ],
      "metadata": {
        "id": "QQg-alv5EtHo"
      },
      "execution_count": 14,
      "outputs": []
    },
    {
      "cell_type": "code",
      "source": [
        "Hola()"
      ],
      "metadata": {
        "colab": {
          "base_uri": "https://localhost:8080/"
        },
        "id": "n20c7B7zF_eF",
        "outputId": "e4722a63-4e9c-4f42-8916-9ec0eda5a4df"
      },
      "execution_count": 16,
      "outputs": [
        {
          "output_type": "stream",
          "name": "stdout",
          "text": [
            "Hola me llamo Juanma\n"
          ]
        }
      ]
    },
    {
      "cell_type": "code",
      "source": [
        "def Saludar(s,n):\n",
        "  print(f\"Hola, me llamo {s} y tengo {n} años\")\n",
        ""
      ],
      "metadata": {
        "id": "GI_PB8dGGImD"
      },
      "execution_count": 28,
      "outputs": []
    },
    {
      "cell_type": "code",
      "source": [
        "Saludar (\"Juanma\", 18)"
      ],
      "metadata": {
        "colab": {
          "base_uri": "https://localhost:8080/"
        },
        "id": "e0-bEO_zHpmz",
        "outputId": "aded0e6a-36b2-4841-b6f9-26f4138b4dd4"
      },
      "execution_count": 29,
      "outputs": [
        {
          "output_type": "stream",
          "name": "stdout",
          "text": [
            "Hola, me llamo Juanma y tengo 18 años\n"
          ]
        }
      ]
    },
    {
      "cell_type": "code",
      "source": [
        "def par():\n",
        "  for x in range(10):\n",
        "    if x%2==0:\n",
        "      print(f\"{x} es par\")\n",
        "    else:\n",
        "      print(f\"{x} es impar\")"
      ],
      "metadata": {
        "id": "E4F8Pl0cH41B"
      },
      "execution_count": 39,
      "outputs": []
    },
    {
      "cell_type": "code",
      "source": [
        "par()"
      ],
      "metadata": {
        "colab": {
          "base_uri": "https://localhost:8080/"
        },
        "id": "XPNWshfpJf6I",
        "outputId": "90367464-3ebd-4816-9083-623d90d397aa"
      },
      "execution_count": 41,
      "outputs": [
        {
          "output_type": "stream",
          "name": "stdout",
          "text": [
            "0 es par\n",
            "1 es impar\n",
            "2 es par\n",
            "3 es impar\n",
            "4 es par\n",
            "5 es impar\n",
            "6 es par\n",
            "7 es impar\n",
            "8 es par\n",
            "9 es impar\n"
          ]
        }
      ]
    },
    {
      "cell_type": "code",
      "source": [
        "def suma_vectorial (L,M):\n",
        "  x = [L[i]+M[i] for i in range (len(L))]\n",
        "  return x\n",
        "\n",
        ""
      ],
      "metadata": {
        "id": "JXWtt-wpLN30"
      },
      "execution_count": 43,
      "outputs": []
    },
    {
      "cell_type": "code",
      "source": [
        "L=[1,2,3]\n",
        "M=[21,34,40]\n",
        "suma_vectorial(L,M)"
      ],
      "metadata": {
        "colab": {
          "base_uri": "https://localhost:8080/"
        },
        "id": "SQn1FDByMD82",
        "outputId": "33244471-19dc-4711-9450-01b2648665ea"
      },
      "execution_count": 44,
      "outputs": [
        {
          "output_type": "execute_result",
          "data": {
            "text/plain": [
              "[22, 36, 43]"
            ]
          },
          "metadata": {},
          "execution_count": 44
        }
      ]
    },
    {
      "cell_type": "markdown",
      "source": [
        "## Modulos o librerias"
      ],
      "metadata": {
        "id": "SU1y__ixMrJQ"
      }
    },
    {
      "cell_type": "code",
      "source": [
        "import math\n",
        "from math import sqrt, pi"
      ],
      "metadata": {
        "id": "OVdsd_1rN-Z2"
      },
      "execution_count": 46,
      "outputs": []
    },
    {
      "cell_type": "code",
      "source": [
        "sqrt(68)"
      ],
      "metadata": {
        "colab": {
          "base_uri": "https://localhost:8080/"
        },
        "id": "RYL4ZlicOGtY",
        "outputId": "53bb6121-538a-440b-bade-cf14404d8046"
      },
      "execution_count": 48,
      "outputs": [
        {
          "output_type": "execute_result",
          "data": {
            "text/plain": [
              "8.246211251235321"
            ]
          },
          "metadata": {},
          "execution_count": 48
        }
      ]
    },
    {
      "cell_type": "code",
      "source": [
        "pi"
      ],
      "metadata": {
        "colab": {
          "base_uri": "https://localhost:8080/"
        },
        "id": "JmC1i_YZOixC",
        "outputId": "2be7359c-aa0e-4a4c-ad1b-46fb91e9e7a7"
      },
      "execution_count": 49,
      "outputs": [
        {
          "output_type": "execute_result",
          "data": {
            "text/plain": [
              "3.141592653589793"
            ]
          },
          "metadata": {},
          "execution_count": 49
        }
      ]
    },
    {
      "cell_type": "markdown",
      "source": [
        "# El Modulo NumPy\n",
        "\n",
        "La funcion array"
      ],
      "metadata": {
        "id": "Y2TeDswLOxAU"
      }
    },
    {
      "cell_type": "code",
      "source": [
        "import numpy as np\n",
        "\n",
        "L_vector = np.array(L)\n",
        "M_vector = np.array(M)\n",
        "\n",
        "L_vector+M_vector"
      ],
      "metadata": {
        "colab": {
          "base_uri": "https://localhost:8080/"
        },
        "id": "gC5s_CQiPMuG",
        "outputId": "4382bab7-a3ab-45f9-87db-ece444b1736a"
      },
      "execution_count": 50,
      "outputs": [
        {
          "output_type": "execute_result",
          "data": {
            "text/plain": [
              "array([22, 36, 43])"
            ]
          },
          "metadata": {},
          "execution_count": 50
        }
      ]
    },
    {
      "cell_type": "code",
      "source": [
        "C= [0,2,2,2,3,3,2,17,2]\n",
        "A=[8,1,1,1,2,2,1,16,1]\n",
        "\n",
        "C_matriz= np.array (C).reshape(3,3)\n",
        "A_matriz= np.array (A).reshape(3,3)\n",
        "\n",
        "print (C_matriz)\n",
        "print (A_matriz)"
      ],
      "metadata": {
        "colab": {
          "base_uri": "https://localhost:8080/"
        },
        "id": "t8EAyoQPQio7",
        "outputId": "a53776d8-86d4-408d-ab24-1bbe0eb4946d"
      },
      "execution_count": 51,
      "outputs": [
        {
          "output_type": "stream",
          "name": "stdout",
          "text": [
            "[[ 0  2  2]\n",
            " [ 2  3  3]\n",
            " [ 2 17  2]]\n",
            "[[ 8  1  1]\n",
            " [ 1  2  2]\n",
            " [ 1 16  1]]\n"
          ]
        }
      ]
    },
    {
      "cell_type": "code",
      "source": [
        "C_matriz @ A_matriz"
      ],
      "metadata": {
        "colab": {
          "base_uri": "https://localhost:8080/"
        },
        "id": "YeHe7q1HRQD2",
        "outputId": "ab9ff132-24b3-47f6-cab9-4cab56705276"
      },
      "execution_count": 52,
      "outputs": [
        {
          "output_type": "execute_result",
          "data": {
            "text/plain": [
              "array([[ 4, 36,  6],\n",
              "       [22, 56, 11],\n",
              "       [35, 68, 38]])"
            ]
          },
          "metadata": {},
          "execution_count": 52
        }
      ]
    },
    {
      "cell_type": "code",
      "source": [
        "A_matriz @ C_matriz"
      ],
      "metadata": {
        "colab": {
          "base_uri": "https://localhost:8080/"
        },
        "id": "LolvOWXIRXr6",
        "outputId": "c2fe6031-43d1-4f87-8d02-aa438e49ba72"
      },
      "execution_count": 53,
      "outputs": [
        {
          "output_type": "execute_result",
          "data": {
            "text/plain": [
              "array([[ 4, 36, 21],\n",
              "       [ 8, 42, 12],\n",
              "       [34, 67, 52]])"
            ]
          },
          "metadata": {},
          "execution_count": 53
        }
      ]
    }
  ]
}