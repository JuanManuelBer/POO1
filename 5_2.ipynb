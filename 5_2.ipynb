{
  "nbformat": 4,
  "nbformat_minor": 0,
  "metadata": {
    "colab": {
      "provenance": []
    },
    "kernelspec": {
      "name": "python3",
      "display_name": "Python 3"
    },
    "language_info": {
      "name": "python"
    }
  },
  "cells": [
    {
      "cell_type": "markdown",
      "source": [],
      "metadata": {
        "id": "DcvujGZarhyb"
      }
    },
    {
      "cell_type": "code",
      "source": [],
      "metadata": {
        "id": "2Q0NJbwWs6QV"
      },
      "execution_count": null,
      "outputs": []
    },
    {
      "cell_type": "code",
      "source": [],
      "metadata": {
        "id": "ZejEN4R-uWK4"
      },
      "execution_count": null,
      "outputs": []
    },
    {
      "cell_type": "markdown",
      "source": [
        "#Introduccion a Python\n",
        "\n",
        "Python es un lenguaje de programación ampliamente utilizado en las aplicaciones web, el desarrollo de software, la ciencia de datos y el machine learning (ML). Los desarrolladores utilizan Python porque es eficiente y fácil de aprender, además de que se puede ejecutar en muchas plataformas diferentes. El software Python se puede descargar gratis, se integra bien a todos los tipos de sistemas y aumenta la velocidad del desarrollo.\n",
        "\n",
        "El desarrollo web del lado del servidor incluye las funciones complejas de backend que los sitios web llevan a cabo para mostrar información al usuario. Por ejemplo, los sitios web deben interactuar con las bases de datos, comunicarse con otros sitios web y proteger los datos cuando se los envía a través de la red.\n",
        "\n",
        "Python es útil para escribir código del lado del servidor debido a que ofrece muchas bibliotecas que constan de código preescrito para crear funciones de backend complejas. Los desarrolladores también utilizan un amplio rango de marcos de Python que proporcionan todas las herramientas necesarias para crear aplicaciones web con mayor rapidez y facilidad. Por ejemplo, los desarrolladores pueden crear la aplicación web esqueleto en segundos porque no deben escribirla desde cero. Pueden probarla por medio de las herramientas de prueba del marco, sin depender de herramientas de prueba externas.\n",
        "\n",
        "##¿Que veremos hoy?\n",
        "\n",
        "\n",
        "1.   Objetos\n",
        "2.  Variables\n",
        "3. Un ejemplo\n",
        "\n",
        "\n"
      ],
      "metadata": {
        "id": "yHO2-tPeqPzP"
      }
    },
    {
      "cell_type": "markdown",
      "source": [
        "**Nota: En este procesador de este texto se puede escribir en html o en latex. Por ejemplo la ecuacion mas hermosa.**\n",
        "\n",
        "$$e^{iπ}+1=0$$\n",
        "\n",
        "Otro ejemplo:\n",
        "\n",
        "$$\\begin{bmatrix}\n",
        "a & b \\\\\n",
        "c & d\n",
        "\\end{bmatrix}$$\n",
        "\n"
      ],
      "metadata": {
        "id": "7lmpy-WauXg_"
      }
    },
    {
      "cell_type": "markdown",
      "source": [
        "### Algunos Objetos en Python\n",
        "\n",
        "1.   int y float (enteros y flotantes)\n",
        "2.   str (\"string\")\n",
        "3. Conjuntos y Listas\n",
        "\n",
        "---\n",
        "\n",
        "**La funcion `print`y la funcion `type`**\n"
      ],
      "metadata": {
        "id": "yZo7bj-p6hJw"
      }
    },
    {
      "cell_type": "code",
      "source": [
        "# Vamos a imprimir Hola Mundo!\n",
        "print(\"Hola Mundo!\")\n",
        "\n",
        "#Si ponemos print nos da el texto sin comillas\n",
        "#Si ponemos puras comillas \"Hola Mundo\" nos lo regresa con comillas\n"
      ],
      "metadata": {
        "colab": {
          "base_uri": "https://localhost:8080/"
        },
        "id": "z6eHJWz_64Uy",
        "outputId": "311fa3ad-181d-45cb-ed96-f204232de3d9"
      },
      "execution_count": null,
      "outputs": [
        {
          "output_type": "stream",
          "name": "stdout",
          "text": [
            "Hola Mundo!\n"
          ]
        }
      ]
    },
    {
      "cell_type": "markdown",
      "source": [
        "### Operaciones Basicas en int o float\n",
        "\n",
        "\n",
        "\n",
        "1.   $+, -$ (Suma y Resta)\n",
        "2.   $*, /, **$ (Multiplicacion, dividir, y potenciador)\n",
        "3. $\\%$ (Operacion Modular)\n",
        "4. $//$ (Division al piso)\n",
        "\n"
      ],
      "metadata": {
        "id": "SvbKI-uwAVQW"
      }
    },
    {
      "cell_type": "markdown",
      "source": [
        "**Creacion de Variables**\n",
        "\n",
        "nombre = objeto"
      ],
      "metadata": {
        "id": "ChNOat-WFPBw"
      }
    },
    {
      "cell_type": "code",
      "source": [
        "#Vamos a crear dos variables\n",
        "\n",
        "x = 7\n",
        "y = 3\n",
        "\n",
        "#Operaciones\n",
        "\n",
        "print(f\" La suma de {x} y {y} es {x+y}\")\n",
        "print(f\" La potenciadora entre {x} y {y  } es {x**y}\")\n",
        "print(f\" La multiplicacion de {x} y {y} es {x*y}\")\n",
        "print(f\" La division de {x} y {y} es {x/y}\")\n",
        "print(f\" La division al piso de {x} y {y} es {x//y}\")\n",
        "print(f\" El modulo de {x} y {y} es {x%y}\")"
      ],
      "metadata": {
        "colab": {
          "base_uri": "https://localhost:8080/"
        },
        "id": "gTQgzlfHF2sV",
        "outputId": "641ab896-4aaa-4467-c9c9-be8d0e026b59"
      },
      "execution_count": null,
      "outputs": [
        {
          "output_type": "stream",
          "name": "stdout",
          "text": [
            " La suma de 7 y 3 es 10\n",
            " La potenciadora entre 7 y 3 es 343\n",
            " La multiplicacion de 7 y 3 es 21\n",
            " La division de 7 y 3 es 2.3333333333333335\n",
            " La division al piso de 7 y 3 es 2\n",
            " El modulo de 7 y 3 es 1\n"
          ]
        }
      ]
    }
  ]
}